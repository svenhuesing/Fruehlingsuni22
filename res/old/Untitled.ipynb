{
 "cells": [
  {
   "cell_type": "markdown",
   "metadata": {},
   "source": [
    "# Analyse von Umweltdaten"
   ]
  },
  {
   "cell_type": "markdown",
   "metadata": {},
   "source": [
    "<div class = \"alert alert-warning\"><h3> Hinweis:</h3><br>\n",
    "Dieses Jupyter Notebook ist Teil eines Minimoduls zum Thema \"Analyse von Umweltdaten\". Es wurde im Kontext des ProDaBi-Projektes entwickelt, welches durch die Deutsche Telekom Stiftung gefördert wird und das Ziel hat, Data Science und Künstliche Intelligenz in die Schule zu bringen.<br>\n",
    "\n",
    "In diesem Jupyter Notebook soll exemplarisch gezeigt werden, wie eine Datenanalyse innerhalb eines Jupyter Notebooks mit der Programmiersprache Python umgesetzt werden kann. Dabei wird ein sogenanntes \"Computational Essay\" erstellt, wodurch es ermöglicht wird, den Programmierprozess sowie die Programmierergebnisse und deren Interpretationen in einem Dokument festzuhalten.\n",
    "\n",
    "Falls Sie an weiteren Informationen - beispielsweise hinsichtlich unterrichtlicher Umsetzungen einer solchen Datenanalyse - interessiert sind, melden Sie sich gerne unter prodabi@mail.uni-paderborn.de oder besuchen Sie unsere Website <a href=\"https://www.prodabi.de\"> https://www.prodabi.de</a>.\n",
    "</div>"
   ]
  },
  {
   "cell_type": "markdown",
   "metadata": {},
   "source": [
    "<div class=\"alert alert-success\">\n",
    "    <h3>Erklärung</h3><br>\n",
    "In diesem Jupyter Notebook wollen wir eine datenbasierte Umweltanalyse durchführen. Dabei können wir auf verschiedene Größen wie Temperatur, Luftfeuchtigkeit, Feinstaubwerte, ... gucken.\n",
    "Aufgrund dieser Menge an Möglichkeiten, solltet Ihr Euch zunächst eine Forschungsfrage überlegen, der Ihr nachgehen möchtet bzw. konkrete Größen, die Ihr beobachten wollt.\n",
    "</div>"
   ]
  },
  {
   "cell_type": "markdown",
   "metadata": {},
   "source": [
    "<div class=\"alert alert-info\">\n",
    "    <h3>Aufgabe</h3><br>\n",
    "Halte im nachfolgenden Textfeld Deine Forschungsfrage fest, die Du im Rahmen der Datenanalyse beantworten möchtest. Schreibe auch auf, welche Daten Du zur Beantwortung benötigst. <br><br>\n",
    "<i>Tipp: Eine Hilfestellung zum Finden einer geeigneten Forschungsfrage kann die folgende Checkliste darstellen:</i>\n",
    "</div>"
   ]
  },
  {
   "cell_type": "markdown",
   "metadata": {},
   "source": [
    "![Bild](res/checkliste.png)"
   ]
  },
  {
   "cell_type": "markdown",
   "metadata": {},
   "source": [
    "Deine Forschungsfrage:\n",
    "\n"
   ]
  },
  {
   "cell_type": "markdown",
   "metadata": {},
   "source": [
    "<div class=\"alert alert-success\">\n",
    "    <h3>Erklärung</h3><br>\n",
    "Nachdem Du nun eine Forschungsfrage gefunden hast, müssen nun erst einmal die Bibliotheken eingelesen werden, welche die Methoden und Eigenschaften enthalten, die wir bei der Datenanalyse benötigen.<br>\n",
    "    <b>data_reader</b> ist eine Bibliothek, zum Einlesen von Daten. <br>\n",
    "    <b>pandas</b> ist eine Bibliothek, die statistische Methoden enthält. <br>\n",
    "    <b>numpy</b> ist eine Bibliothek, die ein einfacheres Umgehen mit großen Datenarrays ermöglicht.<br>\n",
    "    <b>plotly</b> ist eine Bibliothek, mit der interaktive Visualisierungen erstellt werden können. Dabei ermöglicht die \"Untersammlung\" <code>graph_objects</code> das Erstellen einer Vielzahl an Plots und deren Beschriftungen, während es die \"Untersammlung\" <code>subplots</code> ermöglicht, Graphen zu verschiedenen Variablen in ein gemeinsames Diagramm zu zeichnen.<br>\n",
    "    <b>datetime</b> ist eine Bibliothek, die es ermöglicht, Daten und Uhrzeiten in Datensätzen einzutragen und danach zu sortieren und zu filtern.<br><br>\n",
    "    Mit <b>pd, np, go, sp und dati</b> rufst Du die verschiedenen Bibliotheken auf.<br><br>\n",
    "</div>"
   ]
  },
  {
   "cell_type": "markdown",
   "metadata": {},
   "source": [
    "<div class=\"alert alert-info\">\n",
    "    <h3>Aufgabe</h3><br>\n",
    "Führe die folgende vorbereitete Codezelle durch einen Klick auf \"Run\" aus, um die benötigten Bibliotheken einzulesen.\n",
    "</div>"
   ]
  },
  {
   "cell_type": "code",
   "execution_count": 1,
   "metadata": {},
   "outputs": [
    {
     "data": {
      "text/html": [
       "        <script type=\"text/javascript\">\n",
       "        window.PlotlyConfig = {MathJaxConfig: 'local'};\n",
       "        if (window.MathJax) {MathJax.Hub.Config({SVG: {font: \"STIX-Web\"}});}\n",
       "        if (typeof require !== 'undefined') {\n",
       "        require.undef(\"plotly\");\n",
       "        requirejs.config({\n",
       "            paths: {\n",
       "                'plotly': ['https://cdn.plot.ly/plotly-latest.min']\n",
       "            }\n",
       "        });\n",
       "        require(['plotly'], function(Plotly) {\n",
       "            window._Plotly = Plotly;\n",
       "        });\n",
       "        }\n",
       "        </script>\n",
       "        "
      ]
     },
     "metadata": {},
     "output_type": "display_data"
    }
   ],
   "source": [
    "from res.data_reader import *\n",
    "import pandas as pd\n",
    "import numpy as np\n",
    "import plotly.graph_objects as go\n",
    "import plotly.subplots as sp\n",
    "from datetime import datetime as dati"
   ]
  },
  {
   "cell_type": "markdown",
   "metadata": {},
   "source": [
    "<div class=\"alert alert-success\">\n",
    "    <h3>Erklärung</h3><br>\n",
    "Im Folgenden sollen nun die Daten eingelesen werden, die Du zur Beantwortung der Forschungsfrage benötigst. Dabei haben wir zwei Feinstaub-Datensätze vorbereitet (Sensor 1 und Sensor 2), die wir selbst erhoben haben.<br>\n",
    "Der Datensatz \"Sensor 1\" stammt aus einem Garten und wurde im Frühjahr 2020 erhoben, während der Datensatz \"Sensor 2\" im Herbst 2019 an einer stark befahrenen Straße gemessen wurde. Beide Datensätze enthalten Daten über Temperatur (value_temp), Luftfeuchtigkeit (value_hum) und Feinstaub (value_pm).\n",
    "    \n",
    "Du kannst zudem selbst Daten von der openSenseMap in das Notebook laden. Auf dieser sind über 9000 SenseBoxen weltweit registriert, deren aufgenommene Daten heruntergeladen und analysiert werden können. Um dies zu tun, wähle unten \"Daten von der openSenseMap\" aus. Besuche dann die Seite <a href=\"https://www.opensensemap.org\"> www.opensensemap.org</a>.\n",
    "  </div>"
   ]
  },
  {
   "cell_type": "markdown",
   "metadata": {},
   "source": [
    "![Bild](res/OSM.png)"
   ]
  },
  {
   "cell_type": "markdown",
   "metadata": {},
   "source": [
    "<div class=\"alert alert-success\">\n",
    "    <h3>Erklärung</h3><br>\n",
    "Wähle auf der Seite eine SenseBox aus und klicke das Icon an.\n",
    "</div>"
   ]
  },
  {
   "cell_type": "markdown",
   "metadata": {},
   "source": [
    "![Bild](res/url.png)"
   ]
  },
  {
   "cell_type": "markdown",
   "metadata": {},
   "source": [
    "<div class=\"alert alert-success\">\n",
    "    <h3>Erklärung</h3><br>\n",
    "Kopiere dann den hinteren Code aus der URL. Dies ist die BoxID, die Du unten dann eingeben musst. Anschließend werden Dir alle Sensoren der Sensebox angezeigt, von denen Du einen auswählen kannst. Kopiere dazu die SensorID in das entsprechende Feld und bestätige mit dem Button darunter.\n",
    "</div>"
   ]
  },
  {
   "cell_type": "markdown",
   "metadata": {},
   "source": [
    "### Daten auswählen:"
   ]
  },
  {
   "cell_type": "code",
   "execution_count": 2,
   "metadata": {},
   "outputs": [
    {
     "data": {
      "application/vnd.jupyter.widget-view+json": {
       "model_id": "a1042b31e667407a9cf6f133df5a8e4b",
       "version_major": 2,
       "version_minor": 0
      },
      "text/plain": [
       "VBox(children=(Dropdown(description='Datei auswählen:', layout=Layout(width='300px'), options=('Box1', 'Box2',…"
      ]
     },
     "metadata": {},
     "output_type": "display_data"
    }
   ],
   "source": [
    "mySteuerung = Steuerung()\n",
    "display(VBox([mySteuerung.auswahl, mySteuerung.loadButton]))\n",
    "mySteuerung.loadButton.on_click(mySteuerung.buttonLoadData_onclick)\n",
    "mySteuerung.loadOwnID.on_click(mySteuerung.ladeEigeneDatei)\n",
    "mySteuerung.loadSensorButton.on_click(mySteuerung.ladeSensorDaten)"
   ]
  },
  {
   "cell_type": "markdown",
   "metadata": {},
   "source": [
    "<div class=\"alert alert-info\">\n",
    "    <h3>Aufgabe</h3><br>\n",
    "    Führe nun die folgende Codezelle aus, um die Daten im Dataframe <code>df</code> zu speichern. Anschließend werden Dir die ersten fünf Zeilen des Dataframes angezeigt.\n",
    "</div>"
   ]
  },
  {
   "cell_type": "code",
   "execution_count": 3,
   "metadata": {},
   "outputs": [
    {
     "data": {
      "text/html": [
       "<div>\n",
       "<style scoped>\n",
       "    .dataframe tbody tr th:only-of-type {\n",
       "        vertical-align: middle;\n",
       "    }\n",
       "\n",
       "    .dataframe tbody tr th {\n",
       "        vertical-align: top;\n",
       "    }\n",
       "\n",
       "    .dataframe thead th {\n",
       "        text-align: right;\n",
       "    }\n",
       "</style>\n",
       "<table border=\"1\" class=\"dataframe\">\n",
       "  <thead>\n",
       "    <tr style=\"text-align: right;\">\n",
       "      <th></th>\n",
       "      <th>value</th>\n",
       "    </tr>\n",
       "    <tr>\n",
       "      <th>createdAt</th>\n",
       "      <th></th>\n",
       "    </tr>\n",
       "  </thead>\n",
       "  <tbody>\n",
       "    <tr>\n",
       "      <th>2020-03-27 13:44:34+00:00</th>\n",
       "      <td>17.7</td>\n",
       "    </tr>\n",
       "    <tr>\n",
       "      <th>2020-03-27 13:49:34+00:00</th>\n",
       "      <td>20.4</td>\n",
       "    </tr>\n",
       "    <tr>\n",
       "      <th>2020-03-27 13:54:34+00:00</th>\n",
       "      <td>20.1</td>\n",
       "    </tr>\n",
       "    <tr>\n",
       "      <th>2020-03-27 13:59:34+00:00</th>\n",
       "      <td>20.5</td>\n",
       "    </tr>\n",
       "    <tr>\n",
       "      <th>2020-03-27 14:04:34+00:00</th>\n",
       "      <td>20.7</td>\n",
       "    </tr>\n",
       "  </tbody>\n",
       "</table>\n",
       "</div>"
      ],
      "text/plain": [
       "                           value\n",
       "createdAt                       \n",
       "2020-03-27 13:44:34+00:00   17.7\n",
       "2020-03-27 13:49:34+00:00   20.4\n",
       "2020-03-27 13:54:34+00:00   20.1\n",
       "2020-03-27 13:59:34+00:00   20.5\n",
       "2020-03-27 14:04:34+00:00   20.7"
      ]
     },
     "execution_count": 3,
     "metadata": {},
     "output_type": "execute_result"
    }
   ],
   "source": [
    "df = mySteuerung.data\n",
    "df.head()"
   ]
  },
  {
   "cell_type": "markdown",
   "metadata": {},
   "source": [
    "<div class=\"alert alert-info\">\n",
    "    <h3>Aufgabe</h3><br>\n",
    "    Falls Du ein weiteres Dataframe mit anderen Daten laden willst, kannst Du das genau wie oben durch Ausführen der folgenden beiden Codezellen tun.\n",
    "</div>"
   ]
  },
  {
   "cell_type": "code",
   "execution_count": null,
   "metadata": {},
   "outputs": [],
   "source": [
    "mySteuerung = Steuerung()\n",
    "display(VBox([mySteuerung.auswahl, mySteuerung.loadButton]))\n",
    "mySteuerung.loadButton.on_click(mySteuerung.buttonLoadData_onclick)\n",
    "mySteuerung.loadOwnID.on_click(mySteuerung.ladeEigeneDatei)\n",
    "mySteuerung.loadSensorButton.on_click(mySteuerung.ladeSensorDaten)"
   ]
  },
  {
   "cell_type": "code",
   "execution_count": null,
   "metadata": {},
   "outputs": [],
   "source": [
    "df2 = mySteuerung.data\n",
    "df2.head()"
   ]
  },
  {
   "cell_type": "markdown",
   "metadata": {},
   "source": [
    "## Tutorial: Datenanalyse"
   ]
  },
  {
   "cell_type": "markdown",
   "metadata": {},
   "source": [
    "### Scatter-Plots"
   ]
  },
  {
   "cell_type": "markdown",
   "metadata": {},
   "source": [
    "<div class = \"alert alert-success\">\n",
    "    <h3> Erklärung</h3><br>\n",
    "    <b>Jetzt geht es los - wir starten damit, uns die Daten anzuschauen!</b>\n",
    "    <br><br>\n",
    "Nun wollen wir uns zunächst einen Überblick über die Daten verschaffen. Dazu erstellen wir ein Streudiagramm. Als erstes muss  eine Graphik (engl. figure) <code>fig</code> erstellt werden, in die dann die Graphen nach und nach eingetragen werden.<br>\n",
    "   Mithilfe der Methode <code>add_trace(..)</code> kann zu der angelegten Figure (=Graphik) dann eine Darstellung hinzugefügt werden. <br>\n",
    "Da es sich hier um eine Art von Streudiagramm (engl. scatter plot) handeln soll, wird die Methode <code>Scatter</code> aus der <code>plotly.graph_objects</code>-Bibliothek benötigt. Dieser muss dann noch übergeben werden, was die x-Werte und was die y-Werte der einzutragenden Punkte sein sollen.\n",
    "In unserem Fall ist der x-Wert der Index (also das Datum). Dementsprechend muss auf diese Werte - mit <code>df.index</code> - zugegriffen werden. Die y-Werte (=gemessene Werte) befinden sich in der Spalte <code>'value'</code> unseres Dataframes <code>df</code> und ggf. auch in <code>df2</code>. Auf diese kann mit <code>df['value']</code> zugegriffen werden.<br>\n",
    "Abschließend wird die Graphik mithilfe der Methode <code>show()</code> angezeigt.\n",
    "</div>"
   ]
  },
  {
   "cell_type": "markdown",
   "metadata": {},
   "source": [
    "<div class=\"alert alert-info\">\n",
    "    <h3>Aufgabe</h3><br>\n",
    "    Führe die folgende Code-Zelle aus, um ein Scatter-Plot für das Dataframe <code>df</code> zu erstellen.\n",
    "    </div>"
   ]
  },
  {
   "cell_type": "code",
   "execution_count": null,
   "metadata": {
    "scrolled": false
   },
   "outputs": [],
   "source": [
    "fig = go.Figure()\n",
    "fig.add_trace(go.Scatter(x=df.index, y=df['value']))\n",
    "fig.show()"
   ]
  },
  {
   "cell_type": "markdown",
   "metadata": {},
   "source": [
    "<div class=\"alert alert-info\">\n",
    "<h3>Aufgabe</h3><br>\n",
    "    Halte unten Erkenntnisse fest, die Du aus dem Scatter-Plot heraus gewinnen kannst.\n",
    "    </div>"
   ]
  },
  {
   "cell_type": "markdown",
   "metadata": {},
   "source": [
    "Platz für Deine Erkenntnisse:\n",
    "\n"
   ]
  },
  {
   "cell_type": "markdown",
   "metadata": {},
   "source": [
    "<div class = \"alert alert-success\">\n",
    "    <h3> Tipp</h3><br>\n",
    "    Du kannst mithilfe der Methode <code>add_trace</code> auch noch weitere Scatter-Plots zur Figure <code>fig</code> hinzufügen. Rufe anschließend dann immer nochmal <code>fig.show</code> auf.\n",
    "    </div>"
   ]
  },
  {
   "cell_type": "markdown",
   "metadata": {},
   "source": [
    "### Box-Plot"
   ]
  },
  {
   "cell_type": "markdown",
   "metadata": {},
   "source": [
    "<div class = \"alert alert-success\">\n",
    "    <h3> Erklärung</h3><br>\n",
    "    Neben dem Scatter-Plot gibt es noch eine Reihe weiterer Visualisierungsmöglichkeiten für Dataframes. Eine davon ist ein Box-Plot:\n",
    "    </div>"
   ]
  },
  {
   "cell_type": "markdown",
   "metadata": {},
   "source": [
    "<div class=\"alert alert-info\">\n",
    "    <h3>Aufgabe</h3><br>\n",
    "    Führe die folgende Code-Zelle aus, um ein Boxplot für das Dataframe <code>df</code> zu erstellen.\n",
    "    </div>"
   ]
  },
  {
   "cell_type": "code",
   "execution_count": null,
   "metadata": {},
   "outputs": [],
   "source": [
    "fig = go.Figure()\n",
    "fig.add_trace(go.Box(y=df['value']))\n",
    "fig.show()"
   ]
  },
  {
   "cell_type": "markdown",
   "metadata": {},
   "source": [
    "<div class=\"alert alert-info\">\n",
    "<h3>Aufgabe</h3><br>\n",
    "    Halte unten Erkenntnisse fest, die Du aus dem Boxplot heraus gewinnen kannst.\n",
    "    </div>"
   ]
  },
  {
   "cell_type": "markdown",
   "metadata": {},
   "source": [
    "Platz für Deine Erkenntnisse:\n",
    "\n",
    "\n"
   ]
  },
  {
   "cell_type": "markdown",
   "metadata": {},
   "source": [
    "### Graphiken beschriften"
   ]
  },
  {
   "cell_type": "markdown",
   "metadata": {},
   "source": [
    "<div class = \"alert alert-success\">\n",
    "    <b>Beschriftung der Graphik</b><br><br>\n",
    "    Für eine vernünftige Graphik fehlen noch ein Titel und die Achsenbeschriftungen. Dazu kann innerhalb der Funktion <code>update_layout</code> noch ein Titel für die Graphik festgelegt werden. Die Achsen lassen sich mithilfe der Methoden <code>update_xaxes</code> bzw. <code>update_yaxes</code> beschriften.\n",
    "</div>"
   ]
  },
  {
   "cell_type": "markdown",
   "metadata": {},
   "source": [
    "<div class=\"alert alert-info\">\n",
    "    <h3>Aufgabe</h3><br>\n",
    "    Führe die folgende Code-Zelle aus, um ein Scatter-Plot samt Beschriftung für das Dataframe <code>df</code> zu erstellen. Passe dabei die Achsenbeschriftungen sowie den Titel an.\n",
    "    </div>"
   ]
  },
  {
   "cell_type": "code",
   "execution_count": null,
   "metadata": {},
   "outputs": [],
   "source": [
    "fig = go.Figure()\n",
    "fig.add_trace(go.Scatter(x=df.index, y=df['value']))\n",
    "fig.update_layout(title=\"Titel\")\n",
    "fig.update_xaxes(title_text = \"Hier stehen die x-Werte\")\n",
    "fig.update_yaxes(title_text = \"Hier stehen die y-Werte\")\n",
    "fig.show()"
   ]
  },
  {
   "cell_type": "markdown",
   "metadata": {},
   "source": [
    "### Trennlinie hinzufügen"
   ]
  },
  {
   "cell_type": "markdown",
   "metadata": {},
   "source": [
    "<div class=\"alert alert-success\">\n",
    "<b>Erklärung</b><br>\n",
    "    Zusätzlich zur farblichen Trennung kann der Graphik auch eine Trennlinie hinzugefügt werden. Hierzu verwendet man die Methode <code>add_hline</code>, der man im Attribut <code>y</code> den y-Wert übergibt.<br>\n",
    "<i>Tipp: Analog kann man auch vertikale Linien mit der Methode <code>add_vline</code> (und dem Attribut <code>x</code>) hinzufügen.</i>\n",
    "    </div>"
   ]
  },
  {
   "cell_type": "markdown",
   "metadata": {},
   "source": [
    "<div class=\"alert alert-info\">\n",
    "<b>Aufgabe</b><br>\n",
    "Füge Deiner Graphik eine passende Trennlinie (z.B. für eine Temperaturgrenze oder eine Feinstaubgrenze) hinzu, indem Du das Attribut <code>y</code> im Folgenden adaptierst.\n",
    "</div>"
   ]
  },
  {
   "cell_type": "code",
   "execution_count": null,
   "metadata": {},
   "outputs": [],
   "source": [
    "fig = go.Figure()\n",
    "fig.add_trace(go.Scatter(x=df.index, y=df['value']))\n",
    "fig.add_hline(y=3)\n",
    "fig.show()"
   ]
  },
  {
   "cell_type": "markdown",
   "metadata": {},
   "source": [
    "### Daten filtern"
   ]
  },
  {
   "cell_type": "markdown",
   "metadata": {},
   "source": [
    "<div class = \"alert alert-success\">\n",
    "    <h3>Erklärung</h3><br>\n",
    "Anstatt sich das gesamte Dataframe in einer Gesamtübersicht angucken, lässt sich auch ein Tag genauer betrachten, indem dieser aus dem Datensatz gefiltert wird. Dazu wählt man mit einem Abgleich des Tages, des Monats und des Jahres genau einen Tag aus.\n",
    "\n",
    "Beispiel:<br>\n",
    "Um die Daten für den 01.01.2022 zu filtern und im neuen Datensatz <code>df_oneday</code> zu speichern, wendet man den folgenden Befehl an:\n",
    "\n",
    "<code>df_oneday = df[(df.index.day==1) & (df.index.month==1) & (df.index.year==2022)]</code>\n",
    "   </div>"
   ]
  },
  {
   "cell_type": "markdown",
   "metadata": {},
   "source": [
    "<div class=\"alert alert-info\">\n",
    "    <h3>Aufgabe</h3><br>\n",
    "    Filtere das Dataframe <code>df</code> nach dem heutigen Tag und zeige anschließend ein Scatter-Plot des heutigen Tages.\n",
    "    </div>"
   ]
  },
  {
   "cell_type": "code",
   "execution_count": null,
   "metadata": {},
   "outputs": [],
   "source": [
    "#Platz für Deinen Code"
   ]
  },
  {
   "cell_type": "markdown",
   "metadata": {},
   "source": [
    "### Korrelationen berechnen"
   ]
  },
  {
   "cell_type": "markdown",
   "metadata": {},
   "source": [
    "<div class = \"alert alert-success\">\n",
    "    <h3>Erklärung</h3><br>\n",
    "    Um den Zusammenhang zwischen zwei verschiedenen Variablen zu überprüfen, kann man mit der Methode <code>corr</code> auch die Korrelationskoeffizienten zwischen den verschiedenen Variablen berechnen. Allgemein liegt der sogenannte Korrelationskoeffizient von zwei Variablen A und B immer zwischen -1 und 1. Bei einem Wert nahe an -1 spricht man von einer starken negativen Korrelation. Das bedeutet in etwa: Je höher der Wert von Variable A, desto niedriger ist der Wert von Variable B. <br>\n",
    "    Bei einem Wert nahe an 1 spricht man dagegen von einer hohen positiven Korrelation - je höher der Wert von Variable A, desto höher ist auch der Wert von Variable B. <br>Bei einem Wert nahe an 0 lässt sich kein solches Muster bzw. kein Zusammenhang zwischen den Variablen A und B erkennen.<br>\n",
    "<b>Allgemein spricht man von einer statistisch signifikaneten Korelation, wenn der Korrelationskoeffizient zwischen zwei Variablen größer als 0,6 oder kleiner als -0,6 ist.</b> <br>\n",
    "Allerdings muss man im Allgemeinen aufpassen, wenn man vom statistischen Zusammenhang auf den ursächlichen (kausalen) Zusammenhang schließen möchte: Nur weil es eine hohe Korrelation zwischen zwei Variablen gibt, heißt das noch nicht, dass diese auch inhaltlich (kausal) zusammenhängen.<br><br>\n",
    "    <b>Unterschied zwischen Korrelation und Kausalität</b><br><br>\n",
    "Auf folgender Website gibt es ein gutes Video, in dem der Unterschied zwischen Kausalität und Korrelation gut erklärt wird: <a href =https://studyflix.de/statistik/korrelation-und-kausalitat-2216?topic_id=9>https://studyflix.de/statistik/korrelation-und-kausalitat-2216?topic_id=9</a><br>\n",
    "Das Beispiel aus dem Video soll hier kurz aufgegrifen werden: Die Anzahl an Personen mit einem Sonnenbrand und die Anzahl der verkauften Eiskugeln in einer Eisdiele korrelieren statistisch gesehen zwar stark miteinander, die Anzahl der Sonnenbrände ist aber nicht für die Menge an verkauften Eiskugeln verantwortlich und andersherum ebenfalls nicht. Aus diesem Grund bringt es nichts, wenn man die Anzahl der verkauften Eiskugeln verringert, um weniger Menschen mit einem Sonnenbrand zu haben. Durch weniger verkauftes Eis werden nicht automatisch weniger Menschen einen Sonnenbrand bekommen.<br><br>"
   ]
  },
  {
   "cell_type": "markdown",
   "metadata": {},
   "source": [
    "<div class = \"alert alert-success\">\n",
    "    <b>Erklärung</b><br>\n",
    "    Um eine Korrelation zwischen zwei Variablen berechnen zu können, müssen zunächst die beiden entsprechenden Dataframes zusammengeführt werden. Dazu legt man eine Kopie des einen Dataframes an und fügt dann eine weitere Spalte mit der entsprechenden \"value\"-Spalte des anderen Dataframes an.\n",
    "    </div>"
   ]
  },
  {
   "cell_type": "markdown",
   "metadata": {},
   "source": [
    "<div class = \"alert alert-info\">\n",
    "    <b>Aufgabe</b><br>\n",
    "Erstelle oben zwei verschiedene Dataframes und passe den folgenden Code so an, dass die Dataframes in einem neuen Dataframe kombiniert werden. Wichtig ist, dass es Dataframes sind, die jeweils von derselben Sensebox aufgenommen wurden, da nur dann jeweils zwei Punkte zum gleichen Zeitpunkt im neuen Dataframe gespeichert sind.\n",
    "    </div>"
   ]
  },
  {
   "cell_type": "code",
   "execution_count": null,
   "metadata": {},
   "outputs": [],
   "source": [
    "df_2var = df\n",
    "df_2var['value2'] = df2['value']"
   ]
  },
  {
   "cell_type": "code",
   "execution_count": null,
   "metadata": {},
   "outputs": [],
   "source": [
    "df_2var.corr()"
   ]
  },
  {
   "cell_type": "markdown",
   "metadata": {},
   "source": [
    "## Eigene Datenexploration"
   ]
  },
  {
   "cell_type": "markdown",
   "metadata": {},
   "source": [
    "<div class = \"alert alert-info\">\n",
    "    <b>Aufgabe</b><br>\n",
    "    Probiere ein wenig mit den oben genannten Methoden herum. Visualisiere die Daten Deines Dataframes <code>df</code>/ggf. auch <code>df2</code> und erstelle damit und mithilfe von statistischen Kenngrößen eine erste grobe Datenauswertung.<br>\n",
    "    <b> Wichtig: Halte dabei immer auch Deine Erkenntnisse fest, die Du aus einer Visualisierung oder einer Auswertung ableiten kannst.</b>\n",
    "    \n",
    "Folgende Befehle könnten zudem bei der Datenexploration hilfreich sein:\n",
    "</div>"
   ]
  },
  {
   "cell_type": "markdown",
   "metadata": {},
   "source": [
    "- Methode <code>mean()</code> auf der Tabellenspalte 'value' des Dataframes df (Aufruf: <code>df['value'].mean()</code>)\n",
    "    - gibt den Mittelwert aller Einträge aus der Spalte 'value' zurück\n",
    "    - über die <code>print()</code>-Methode (Aufruf: <code>print(df['value'].mean())</code>) lässt sich dieser Wert ausgeben.\n",
    "    \n",
    "    \n",
    "- Methode <code>min()</code> auf der Tabellenspalte 'value' des Dataframes df (Aufruf: <code>df['value'].min()</code>)\n",
    "    - gibt das Minimum aller Einträge aus der Spalte 'value' zurück\n",
    "    - über die <code>print()</code>-Methode (Aufruf: <code>print(df['value'].min())</code>) lässt sich dieser Wert ausgeben.\n",
    "    \n",
    "    \n",
    "- Methode <code>max()</code> auf der Tabellenspalte 'value' des Dataframes df (Aufruf: <code>df['value'].max()</code>)\n",
    "    - gibt das Maximum aller Einträge aus der Spalte 'value' zurück\n",
    "    - über die <code>print()</code>-Methode (Aufruf: <code>print(df['value'].max())</code>) lässt sich dieser Wert ausgeben.\n",
    "  \n",
    "  \n",
    "- Methode <code>quantile(SOME_NUMBER_BETWEEN_0_AND_1)</code> auf der Tabellenspalte 'value' des Dataframes df mit Parameter q (Aufruf: <code>df['value'].quantile(SOME_NUMBER_BETWEEN_0_AND_1)</code>)\n",
    "    - <code>SOME_NUMBER_BETWEEN_0_AND_1</code> ist dabei zu ersetzen durch den gewünschten Anteil des Datensatzes, der kleiner sein soll, als der Rückgabewert (Beispiel: Übergibt man als Parameter den Wert 0.25, sind 25% der Daten aus der Spalte 'value' kleiner als der Wert, der zurückgegeben wird.)\n",
    "    - gibt das entsprechende <code>SOME_NUMBER_BETWEEN_0_AND_1</code>-Quantil der Spalte 'value' zurück\n",
    "    - über die <code>print()</code>-Methode (Aufruf: <code>print(df['value'].quantile(SOME_NUMBER_BETWEEN_0_AND_1))</code>) lässt sich dieser Wert ausgeben."
   ]
  },
  {
   "cell_type": "code",
   "execution_count": null,
   "metadata": {},
   "outputs": [],
   "source": [
    "# Platz für Deine Datenauswertung (füge hier ggf. auch noch weitere Codezellen über den \"+\"Button hinzu)"
   ]
  },
  {
   "cell_type": "markdown",
   "metadata": {},
   "source": [
    "<div class = \"alert alert-info\">\n",
    "    <b>Aufgabe</b><br>\n",
    "    Halte in der folgenden Zelle Deine \"Top3-Erkenntnisse\" fest, die Du in dieser Datenexploration gewinnen konntest.\n",
    "</div>"
   ]
  },
  {
   "cell_type": "markdown",
   "metadata": {},
   "source": [
    "1. \n",
    "2. \n",
    "3. "
   ]
  }
 ],
 "metadata": {
  "kernelspec": {
   "display_name": "Python 3",
   "language": "python",
   "name": "python3"
  },
  "language_info": {
   "codemirror_mode": {
    "name": "ipython",
    "version": 3
   },
   "file_extension": ".py",
   "mimetype": "text/x-python",
   "name": "python",
   "nbconvert_exporter": "python",
   "pygments_lexer": "ipython3",
   "version": "3.8.5"
  }
 },
 "nbformat": 4,
 "nbformat_minor": 4
}
